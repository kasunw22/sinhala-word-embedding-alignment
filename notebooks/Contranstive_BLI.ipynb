{
  "nbformat": 4,
  "nbformat_minor": 0,
  "metadata": {
    "colab": {
      "provenance": [],
      "gpuType": "T4"
    },
    "kernelspec": {
      "name": "python3",
      "display_name": "Python 3"
    },
    "language_info": {
      "name": "python"
    },
    "accelerator": "GPU"
  },
  "cells": [
    {
      "cell_type": "code",
      "source": [
        "# !git clone https://github.com/cambridgeltl/ContrastiveBLI.git"
      ],
      "metadata": {
        "colab": {
          "base_uri": "https://localhost:8080/"
        },
        "id": "z1qHHPsmpTrp",
        "outputId": "b3338e61-47df-4290-d5a3-8d6517675d75"
      },
      "execution_count": null,
      "outputs": [
        {
          "output_type": "stream",
          "name": "stdout",
          "text": [
            "Cloning into 'ContrastiveBLI'...\n",
            "remote: Enumerating objects: 254, done.\u001b[K\n",
            "remote: Counting objects: 100% (106/106), done.\u001b[K\n",
            "remote: Compressing objects: 100% (59/59), done.\u001b[K\n",
            "remote: Total 254 (delta 71), reused 50 (delta 46), pack-reused 148\u001b[K\n",
            "Receiving objects: 100% (254/254), 4.56 MiB | 3.73 MiB/s, done.\n",
            "Resolving deltas: 100% (133/133), done.\n"
          ]
        }
      ]
    },
    {
      "cell_type": "code",
      "source": [
        "# !rm -rf ContrastiveBLI"
      ],
      "metadata": {
        "id": "D4NbTp7EtjdC"
      },
      "execution_count": null,
      "outputs": []
    },
    {
      "cell_type": "code",
      "execution_count": null,
      "metadata": {
        "colab": {
          "base_uri": "https://localhost:8080/"
        },
        "id": "JqvJWiiwoLe1",
        "outputId": "4ef54f0d-9f3b-4262-ca59-ddebe8696663"
      },
      "outputs": [
        {
          "output_type": "stream",
          "name": "stdout",
          "text": [
            "Mounted at /content/gdrive/\n"
          ]
        }
      ],
      "source": [
        "from google.colab import drive\n",
        "\n",
        "drive.mount('/content/gdrive/', force_remount=True)"
      ]
    },
    {
      "cell_type": "code",
      "source": [
        "!ls /content/gdrive/MyDrive/Multilingual_Embedding_Alignment"
      ],
      "metadata": {
        "colab": {
          "base_uri": "https://localhost:8080/"
        },
        "id": "HEoXwNHitb1T",
        "outputId": "dd11172a-bf1b-4c7a-d462-9f3d0002be79"
      },
      "execution_count": null,
      "outputs": [
        {
          "output_type": "stream",
          "name": "stdout",
          "text": [
            "ContrastiveBLI\tdata\n"
          ]
        }
      ]
    },
    {
      "cell_type": "code",
      "source": [
        "!cp -r /content/gdrive/MyDrive/Multilingual_Embedding_Alignment/ContrastiveBLI ."
      ],
      "metadata": {
        "id": "2DNjHeAMtpok"
      },
      "execution_count": null,
      "outputs": []
    },
    {
      "cell_type": "code",
      "source": [
        "!ls /content/gdrive/MyDrive/Multilingual_Embedding_Alignment/data"
      ],
      "metadata": {
        "colab": {
          "base_uri": "https://localhost:8080/"
        },
        "id": "OIHFw_Cnp2zh",
        "outputId": "48b951b8-2bfd-49b3-8fb2-93a358898f43"
      },
      "execution_count": null,
      "outputs": [
        {
          "output_type": "stream",
          "name": "stdout",
          "text": [
            "cc.en.300.vec\n",
            "cc.en.300.vec_words.txt\n",
            "cc_en-si_testset_1500_5000_200k.txt\n",
            "cc_en-si_trainset_1500_5000_200k.txt\n",
            "cc.si.300.vec\n",
            "cc.si.300.vec_words.txt\n",
            "cc_si-en_testset_1500_5000_200k.txt\n",
            "cc_si-en_trainset_1500_5000_200k.txt\n",
            "data\n",
            "de-en.0-5000.txt\n",
            "de-en.5000-6500.txt\n",
            "de-en.txt\n",
            "distiluse-base-multilingual-cased-v1_wiki_embed_en_200000.pt\n",
            "distiluse-base-multilingual-cased-v1_wiki_embed_es_200000.pt\n",
            "distiluse-base-multilingual-cased-v1_wiki_embed_tr_200000.pt\n",
            "distiluse-base-multilingual-cased-v1_wiki_embed_zh_200000.pt\n",
            "distiluse-base-multilingual-cased_wiki_embed_en_200000.pt\n",
            "distiluse-base-multilingual-cased_wiki_embed_es_200000.pt\n",
            "distiluse-base-multilingual-cased_wiki_embed_tr_200000.pt\n",
            "distiluse-base-multilingual-cased_wiki_embed_zh_200000.pt\n",
            "en-de.0-5000.txt\n",
            "en-de.5000-6500.txt\n",
            "en-de.txt\n",
            "en-es.0-5000.txt\n",
            "en-es.5000-6500.txt\n",
            "en-es.txt\n",
            "en-fr.0-5000.txt\n",
            "en-fr.5000-6500.txt\n",
            "en-fr.txt\n",
            "en-it.0-5000.txt\n",
            "en-it.5000-6500.txt\n",
            "en-it.txt\n",
            "en-ja.0-5000.txt\n",
            "en-ja.5000-6500.txt\n",
            "en-ja.txt\n",
            "en-ru.0-5000.txt\n",
            "en-ru.5000-6500.txt\n",
            "en-ru.txt\n",
            "en-ta.0-5000.txt\n",
            "en-ta.5000-6500.txt\n",
            "en-ta.txt\n",
            "en-tr.0-5000.txt\n",
            "en-tr.5000-6500.txt\n",
            "en-tr.txt\n",
            "en-zh.0-5000.txt\n",
            "en-zh.5000-6500.txt\n",
            "en-zh.txt\n",
            "es-en.0-5000.txt\n",
            "es-en.5000-6500.txt\n",
            "es-en.txt\n",
            "evaluate_labse_on_fasttext_vocabulary.ipynb\n",
            "extract_fasttext_words.py\n",
            "fr-en.0-5000.txt\n",
            "fr-en.5000-6500.txt\n",
            "fr-en.txt\n",
            "it-en.0-5000.txt\n",
            "it-en.5000-6500.txt\n",
            "it-en.txt\n",
            "ja-en.0-5000.txt\n",
            "ja-en.5000-6500.txt\n",
            "ja-en.txt\n",
            "LaBSE_cc_embed_en_200000.pt\n",
            "LaBSE_cc_embed_si_200000.pt\n",
            "LaBSE_wiki_embed_de_200000.pt\n",
            "LaBSE_wiki_embed_en_200000.pt\n",
            "LaBSE_wiki_embed_es_200000.pt\n",
            "LaBSE_wiki_embed_fr_200000.pt\n",
            "LaBSE_wiki_embed_it_200000.pt\n",
            "LaBSE_wiki_embed_ja_200000.pt\n",
            "LaBSE_wiki_embed_ru_200000.pt\n",
            "LaBSE_wiki_embed_si_200000.pt\n",
            "LaBSE_wiki_embed_ta_200000.pt\n",
            "LaBSE_wiki_embed_tr_200000.pt\n",
            "LaBSE_wiki_embed_zh_200000.pt\n",
            "laser2_wiki_embed_de_200000.pt\n",
            "laser2_wiki_embed_en_200000.pt\n",
            "laser2_wiki_embed_es_200000.pt\n",
            "laser2_wiki_embed_fr_200000.pt\n",
            "laser2_wiki_embed_it_200000.pt\n",
            "laser2_wiki_embed_ja_200000.pt\n",
            "laser2_wiki_embed_ru_200000.pt\n",
            "laser2_wiki_embed_zh_200000.pt\n",
            "laser3_wiki_embed_en_from_sin_Sinh_200000.pt\n",
            "laser3_wiki_embed_en_from_tam_Taml_200000.pt\n",
            "laser3_wiki_embed_en_from_tur_Latn_200000.pt\n",
            "laser3_wiki_embed_si_from_sin_Sinh_200000.pt\n",
            "laser3_wiki_embed_ta_from_tam_Taml_200000.pt\n",
            "laser3_wiki_embed_tr_from_tur_Latn_200000.pt\n",
            "mpnet-base_wiki_embed_en_200000.pt\n",
            "mpnet-base_wiki_embed_es_200000.pt\n",
            "ru-en.0-5000.txt\n",
            "ru-en.5000-6500.txt\n",
            "ru-en.txt\n",
            "si_splits_cc.pkl\n",
            "si_splits_corruped.pkl\n",
            "si_splits_old.pkl\n",
            "si_splits.pkl\n",
            "si_splits_wiki.pkl\n",
            "stsb-xlm-r-multilingual_wiki_embed_en_200000.pt\n",
            "stsb-xlm-r-multilingual_wiki_embed_es_200000.pt\n",
            "stsb-xlm-r-multilingual_wiki_embed_tr_200000.pt\n",
            "stsb-xlm-r-multilingual_wiki_embed_zh_200000.pt\n",
            "ta-en.0-5000.txt\n",
            "ta-en.5000-6500.txt\n",
            "ta-en.txt\n",
            "tr-en.0-5000.txt\n",
            "tr-en.5000-6500.txt\n",
            "tr-en.txt\n",
            "wiki.de.vec\n",
            "wiki.de.vec_words.txt\n",
            "wiki_en-si_testset_1500_5000_200k.txt\n",
            "wiki.en.vec\n",
            "wiki.en.vec_words.txt\n",
            "wiki.es.vec\n",
            "wiki.es.vec_words.txt\n",
            "wiki.fr.vec\n",
            "wiki.fr.vec_words.txt\n",
            "wiki.it.vec\n",
            "wiki.it.vec_words.txt\n",
            "wiki.ja.vec\n",
            "wiki.ja.vec_words.txt\n",
            "wiki.ru.vec\n",
            "wiki.ru.vec_words.txt\n",
            "wiki_si-en_testset_1500_5000_200k.txt\n",
            "wiki.si.vec\n",
            "wiki.si.vec_words.txt\n",
            "wiki.ta.vec\n",
            "wiki.ta.vec_words.txt\n",
            "wiki.tr.vec\n",
            "wiki.tr.vec_words.txt\n",
            "wiki.zh.vec\n",
            "wiki.zh.vec_words.txt\n",
            "zh-en.0-5000.txt\n",
            "zh-en.5000-6500.txt\n",
            "zh-en.txt\n"
          ]
        }
      ]
    },
    {
      "cell_type": "code",
      "source": [
        "!ln -s /content/gdrive/MyDrive/Multilingual_Embedding_Alignment/data data\n",
        "!ls data"
      ],
      "metadata": {
        "colab": {
          "base_uri": "https://localhost:8080/"
        },
        "id": "26vlnHyJqK7k",
        "outputId": "a8483399-4f22-4c00-f6ad-ab3e9c2b4f1b"
      },
      "execution_count": null,
      "outputs": [
        {
          "output_type": "stream",
          "name": "stdout",
          "text": [
            "cc.en.300.vec\n",
            "cc.en.300.vec_words.txt\n",
            "cc_en-si_testset_1500_5000_200k.txt\n",
            "cc_en-si_trainset_1500_5000_200k.txt\n",
            "cc.si.300.vec\n",
            "cc.si.300.vec_words.txt\n",
            "cc_si-en_testset_1500_5000_200k.txt\n",
            "cc_si-en_trainset_1500_5000_200k.txt\n",
            "data\n",
            "de-en.0-5000.txt\n",
            "de-en.5000-6500.txt\n",
            "de-en.txt\n",
            "distiluse-base-multilingual-cased-v1_wiki_embed_en_200000.pt\n",
            "distiluse-base-multilingual-cased-v1_wiki_embed_es_200000.pt\n",
            "distiluse-base-multilingual-cased-v1_wiki_embed_tr_200000.pt\n",
            "distiluse-base-multilingual-cased-v1_wiki_embed_zh_200000.pt\n",
            "distiluse-base-multilingual-cased_wiki_embed_en_200000.pt\n",
            "distiluse-base-multilingual-cased_wiki_embed_es_200000.pt\n",
            "distiluse-base-multilingual-cased_wiki_embed_tr_200000.pt\n",
            "distiluse-base-multilingual-cased_wiki_embed_zh_200000.pt\n",
            "en-de.0-5000.txt\n",
            "en-de.5000-6500.txt\n",
            "en-de.txt\n",
            "en-es.0-5000.txt\n",
            "en-es.5000-6500.txt\n",
            "en-es.txt\n",
            "en-fr.0-5000.txt\n",
            "en-fr.5000-6500.txt\n",
            "en-fr.txt\n",
            "en-it.0-5000.txt\n",
            "en-it.5000-6500.txt\n",
            "en-it.txt\n",
            "en-ja.0-5000.txt\n",
            "en-ja.5000-6500.txt\n",
            "en-ja.txt\n",
            "en-ru.0-5000.txt\n",
            "en-ru.5000-6500.txt\n",
            "en-ru.txt\n",
            "en-ta.0-5000.txt\n",
            "en-ta.5000-6500.txt\n",
            "en-ta.txt\n",
            "en-tr.0-5000.txt\n",
            "en-tr.5000-6500.txt\n",
            "en-tr.txt\n",
            "en-zh.0-5000.txt\n",
            "en-zh.5000-6500.txt\n",
            "en-zh.txt\n",
            "es-en.0-5000.txt\n",
            "es-en.5000-6500.txt\n",
            "es-en.txt\n",
            "evaluate_labse_on_fasttext_vocabulary.ipynb\n",
            "extract_fasttext_words.py\n",
            "fr-en.0-5000.txt\n",
            "fr-en.5000-6500.txt\n",
            "fr-en.txt\n",
            "it-en.0-5000.txt\n",
            "it-en.5000-6500.txt\n",
            "it-en.txt\n",
            "ja-en.0-5000.txt\n",
            "ja-en.5000-6500.txt\n",
            "ja-en.txt\n",
            "LaBSE_cc_embed_en_200000.pt\n",
            "LaBSE_cc_embed_si_200000.pt\n",
            "LaBSE_wiki_embed_de_200000.pt\n",
            "LaBSE_wiki_embed_en_200000.pt\n",
            "LaBSE_wiki_embed_es_200000.pt\n",
            "LaBSE_wiki_embed_fr_200000.pt\n",
            "LaBSE_wiki_embed_it_200000.pt\n",
            "LaBSE_wiki_embed_ja_200000.pt\n",
            "LaBSE_wiki_embed_ru_200000.pt\n",
            "LaBSE_wiki_embed_si_200000.pt\n",
            "LaBSE_wiki_embed_ta_200000.pt\n",
            "LaBSE_wiki_embed_tr_200000.pt\n",
            "LaBSE_wiki_embed_zh_200000.pt\n",
            "laser2_wiki_embed_de_200000.pt\n",
            "laser2_wiki_embed_en_200000.pt\n",
            "laser2_wiki_embed_es_200000.pt\n",
            "laser2_wiki_embed_fr_200000.pt\n",
            "laser2_wiki_embed_it_200000.pt\n",
            "laser2_wiki_embed_ja_200000.pt\n",
            "laser2_wiki_embed_ru_200000.pt\n",
            "laser2_wiki_embed_zh_200000.pt\n",
            "laser3_wiki_embed_en_from_sin_Sinh_200000.pt\n",
            "laser3_wiki_embed_en_from_tam_Taml_200000.pt\n",
            "laser3_wiki_embed_en_from_tur_Latn_200000.pt\n",
            "laser3_wiki_embed_si_from_sin_Sinh_200000.pt\n",
            "laser3_wiki_embed_ta_from_tam_Taml_200000.pt\n",
            "laser3_wiki_embed_tr_from_tur_Latn_200000.pt\n",
            "mpnet-base_wiki_embed_en_200000.pt\n",
            "mpnet-base_wiki_embed_es_200000.pt\n",
            "ru-en.0-5000.txt\n",
            "ru-en.5000-6500.txt\n",
            "ru-en.txt\n",
            "si_splits_cc.pkl\n",
            "si_splits_corruped.pkl\n",
            "si_splits_old.pkl\n",
            "si_splits.pkl\n",
            "si_splits_wiki.pkl\n",
            "stsb-xlm-r-multilingual_wiki_embed_en_200000.pt\n",
            "stsb-xlm-r-multilingual_wiki_embed_es_200000.pt\n",
            "stsb-xlm-r-multilingual_wiki_embed_tr_200000.pt\n",
            "stsb-xlm-r-multilingual_wiki_embed_zh_200000.pt\n",
            "ta-en.0-5000.txt\n",
            "ta-en.5000-6500.txt\n",
            "ta-en.txt\n",
            "tr-en.0-5000.txt\n",
            "tr-en.5000-6500.txt\n",
            "tr-en.txt\n",
            "wiki.de.vec\n",
            "wiki.de.vec_words.txt\n",
            "wiki_en-si_testset_1500_5000_200k.txt\n",
            "wiki.en.vec\n",
            "wiki.en.vec_words.txt\n",
            "wiki.es.vec\n",
            "wiki.es.vec_words.txt\n",
            "wiki.fr.vec\n",
            "wiki.fr.vec_words.txt\n",
            "wiki.it.vec\n",
            "wiki.it.vec_words.txt\n",
            "wiki.ja.vec\n",
            "wiki.ja.vec_words.txt\n",
            "wiki.ru.vec\n",
            "wiki.ru.vec_words.txt\n",
            "wiki_si-en_testset_1500_5000_200k.txt\n",
            "wiki.si.vec\n",
            "wiki.si.vec_words.txt\n",
            "wiki.ta.vec\n",
            "wiki.ta.vec_words.txt\n",
            "wiki.tr.vec\n",
            "wiki.tr.vec_words.txt\n",
            "wiki.zh.vec\n",
            "wiki.zh.vec_words.txt\n",
            "zh-en.0-5000.txt\n",
            "zh-en.5000-6500.txt\n",
            "zh-en.txt\n"
          ]
        }
      ]
    },
    {
      "cell_type": "code",
      "source": [
        "!pwd"
      ],
      "metadata": {
        "colab": {
          "base_uri": "https://localhost:8080/"
        },
        "id": "yZQma_cxqKxr",
        "outputId": "0adf72ff-58d9-45b9-b954-e390ba90ba63"
      },
      "execution_count": null,
      "outputs": [
        {
          "output_type": "stream",
          "name": "stdout",
          "text": [
            "/content\n"
          ]
        }
      ]
    },
    {
      "cell_type": "code",
      "source": [
        "%cd /content/ContrastiveBLI/C1"
      ],
      "metadata": {
        "colab": {
          "base_uri": "https://localhost:8080/"
        },
        "id": "yavGlrVAqKoK",
        "outputId": "efc33d34-df71-415b-e411-59df8e71e490"
      },
      "execution_count": null,
      "outputs": [
        {
          "output_type": "stream",
          "name": "stdout",
          "text": [
            "/content/ContrastiveBLI/C1\n"
          ]
        }
      ]
    },
    {
      "cell_type": "code",
      "source": [
        "# !python run_all.py"
      ],
      "metadata": {
        "colab": {
          "base_uri": "https://localhost:8080/"
        },
        "id": "vQbZtegAJvA3",
        "outputId": "24bfce13-bc42-4685-d56d-94a51623fe6c"
      },
      "execution_count": null,
      "outputs": [
        {
          "output_type": "stream",
          "name": "stdout",
          "text": [
            "en fr\n",
            "Entering Main\n",
            "C1 Model: english(en) <---> french(fr)\n",
            "100000\n",
            "Loading embeddings\n",
            "Embeddings shape: (100000, 300)\n",
            "100000 word vectors loaded from 100000\n",
            "L1 INPUT WORD VECTOR SPACE OF SIZE: (100000, 300)\n",
            "L1 Contain 100000  Words\n",
            "100000\n",
            "Loading embeddings\n",
            "Embeddings shape: (100000, 300)\n",
            "100000 word vectors loaded from 100000\n",
            "L2 INPUT WORD VECTOR SPACE OF SIZE: (100000, 300)\n",
            "L2 Contain 100000  Words\n",
            "Static WEs Loaded\n",
            "Sup Set Size:  2892 2892\n",
            "Sup L1 Word Frequency Ranking:  min  5624  max  7332  average  6460.143153526971\n",
            "Sup L2 Word Frequency Ranking:  min  205  max  99151  average  17581.98029045643\n",
            "True True\n",
            "Coverage of source vocab: 0.9986\n",
            "Coverage of source vocab: 0.9860\n",
            "lexicon_size_s2t, lexicon_size_t2s 5000.0 9205.0\n",
            "Namespace(l1='en', l2='fr', num_games=200, num_sl=2, sup_batch_size=5000, mini_batch_size=5000, valid_batch_size=5000, D_emb=300, lr=1.5, gamma=0.99, dropout=0, print_every=1000000, valid_every=200, grad_clip=0.15, norm_input=True, num_sample=150, neg_max=60000, dico_max_rank=60000, max_load=100000, resnet=False, cpu=False, self_learning=True, save_aligned_we=True, num_aug=10000, train_size='5k', emb_src_dir='/content/data/wiki.en.vec', tgt_src_dir='/content/data/wiki.fr.vec', train_dict_dir='/content/data/en-fr.5000-6500.txt', test_dict_dir='/content/data/en-fr.0-5000.txt', save_dir='/content/data', str2lang={'hr': 'croatian', 'en': 'english', 'fi': 'finnish', 'fr': 'french', 'de': 'german', 'it': 'italian', 'ru': 'russian', 'tr': 'turkish', 'es': 'spanish', 'si': 'sinhala'}, class_num_l1=100000, class_num_l2=100000)\n",
            "C1_Model(\n",
            "  (beholder): Beholder(\n",
            "    (drop): Dropout(p=0, inplace=False)\n",
            "  )\n",
            "  (s2m_mapping): Linear(in_features=300, out_features=300, bias=False)\n",
            "  (t2m_mapping): Linear(in_features=300, out_features=300, bias=False)\n",
            ")\n",
            "in_params:  ['s2m_mapping.weight', 't2m_mapping.weight']\n",
            "BLI Prediction Accuracy in (NN Retrieval, CSLS Retrieval) format:\n",
            "Self-Learning Mode!\n",
            "(BEFORE TRAINING)  Iter:  0  Epoch:  0 BLI Accuracy L1 to L2:  (0.7536551171640297, 0.7963148407770879) BLI Accuracy L2 to L1:  (0.5774570295284266, 0.6062141912736888)\n",
            "/content/ContrastiveBLI/C1/src/models.py:58: UserWarning: The torch.cuda.*DtypeTensor constructors are no longer recommended. It's best to use methods such as torch.tensor(data, dtype=*, device='cuda') to create tensors. (Triggered internally at ../torch/csrc/tensor/python_tensor.cpp:83.)\n",
            "  res_common = self.tt.LongTensor([0]*sup_batch_size)\n",
            "/content/ContrastiveBLI/C1/./src/main.py:507: UserWarning: torch.nn.utils.clip_grad_norm is now deprecated in favor of torch.nn.utils.clip_grad_norm_.\n",
            "  total_norm = nn.utils.clip_grad_norm(in_params, args.grad_clip)\n",
            "epoch    0 train|loss 5.49706888|\n",
            "C1  Iter:  0  Epoch:  200 BLI Accuracy L1 to L2:  (0.7744842779891848, 0.7983176447025836) BLI Accuracy L2 to L1:  (0.6383869546055531, 0.6457690612604672)  english(en) <---> french(fr)\n",
            "Iteration:  1 augment  10184  training pairs\n",
            "(BEFORE TRAINING)  Iter:  1  Epoch:  0 BLI Accuracy L1 to L2:  (0.7869016623272581, 0.8145403564990987) BLI Accuracy L2 to L1:  (0.6138166593212869, 0.6311150286469811)\n",
            "epoch    0 train|loss 5.44845390|\n",
            "C1  Iter:  1  Epoch:  200 BLI Accuracy L1 to L2:  (0.7975165231323853, 0.8155417584618466) BLI Accuracy L2 to L1:  (0.6652710445130013, 0.6627368884971353)  english(en) <---> french(fr)\n",
            "Data Saved\n",
            "Total Runtime : 825.6311845779419\n"
          ]
        }
      ]
    },
    {
      "cell_type": "code",
      "source": [
        "# !python run_all.py"
      ],
      "metadata": {
        "colab": {
          "base_uri": "https://localhost:8080/"
        },
        "id": "VX2Y5c5IvRsF",
        "outputId": "588f5a85-d237-430b-aac7-58f26d66562b"
      },
      "execution_count": null,
      "outputs": [
        {
          "output_type": "stream",
          "name": "stdout",
          "text": [
            "en si\n",
            "Entering Main\n",
            "C1 Model: english(en) <---> sinhala(si)\n",
            "100000\n",
            "Loading embeddings\n",
            "Embeddings shape: (100000, 300)\n",
            "100000 word vectors loaded from 100000\n",
            "L1 INPUT WORD VECTOR SPACE OF SIZE: (100000, 300)\n",
            "L1 Contain 100000  Words\n",
            "100000\n",
            "Loading embeddings\n",
            "Embeddings shape: (79030, 300)\n",
            "79030 word vectors loaded from 79030\n",
            "L2 INPUT WORD VECTOR SPACE OF SIZE: (79030, 300)\n",
            "L2 Contain 79030  Words\n",
            "Static WEs Loaded\n",
            "Sup Set Size:  2756 2756\n",
            "Sup L1 Word Frequency Ranking:  min  6059  max  8175  average  7066.38969521045\n",
            "Sup L2 Word Frequency Ranking:  min  81  max  79017  average  30278.645863570393\n",
            "True True\n",
            "Coverage of source vocab: 1.0000\n",
            "Coverage of source vocab: 1.0000\n",
            "lexicon_size_s2t, lexicon_size_t2s 5000.0 11394.0\n",
            "Namespace(l1='en', l2='si', num_games=200, num_sl=2, sup_batch_size=5000, mini_batch_size=5000, valid_batch_size=5000, D_emb=300, lr=1.5, gamma=0.99, dropout=0, print_every=1000000, valid_every=200, grad_clip=0.15, norm_input=True, num_sample=150, neg_max=60000, dico_max_rank=60000, max_load=100000, resnet=False, cpu=False, self_learning=True, save_aligned_we=True, num_aug=10000, train_size='5k', emb_src_dir='/content/data/wiki.en.vec', tgt_src_dir='/content/data/wiki.si.vec', train_dict_dir='/content/data/wiki_en-si_testset_1500_5000_200k.txt', test_dict_dir='/content/data/wiki_en-si_trainset_1500_5000_200k.txt', save_dir='/content/data', str2lang={'hr': 'croatian', 'en': 'english', 'fi': 'finnish', 'fr': 'french', 'de': 'german', 'it': 'italian', 'ru': 'russian', 'tr': 'turkish', 'es': 'spanish', 'si': 'sinhala'}, class_num_l1=100000, class_num_l2=79030)\n",
            "C1_Model(\n",
            "  (beholder): Beholder(\n",
            "    (drop): Dropout(p=0, inplace=False)\n",
            "  )\n",
            "  (s2m_mapping): Linear(in_features=300, out_features=300, bias=False)\n",
            "  (t2m_mapping): Linear(in_features=300, out_features=300, bias=False)\n",
            ")\n",
            "in_params:  ['s2m_mapping.weight', 't2m_mapping.weight']\n",
            "BLI Prediction Accuracy in (NN Retrieval, CSLS Retrieval) format:\n",
            "Self-Learning Mode!\n",
            "(BEFORE TRAINING)  Iter:  0  Epoch:  0 BLI Accuracy L1 to L2:  (0.0764, 0.1222) BLI Accuracy L2 to L1:  (0.08750219413726523, 0.11558715113217483)\n",
            "/content/ContrastiveBLI/C1/src/models.py:58: UserWarning: The torch.cuda.*DtypeTensor constructors are no longer recommended. It's best to use methods such as torch.tensor(data, dtype=*, device='cuda') to create tensors. (Triggered internally at ../torch/csrc/tensor/python_tensor.cpp:83.)\n",
            "  res_common = self.tt.LongTensor([0]*sup_batch_size)\n",
            "/content/ContrastiveBLI/C1/./src/main.py:507: UserWarning: torch.nn.utils.clip_grad_norm is now deprecated in favor of torch.nn.utils.clip_grad_norm_.\n",
            "  total_norm = nn.utils.clip_grad_norm(in_params, args.grad_clip)\n",
            "epoch    0 train|loss 5.59141397|\n",
            "C1  Iter:  0  Epoch:  200 BLI Accuracy L1 to L2:  (0.1392, 0.1638) BLI Accuracy L2 to L1:  (0.1358609794628752, 0.14560294892048448)  english(en) <---> sinhala(si)\n",
            "Iteration:  1 augment  10590  training pairs\n",
            "(BEFORE TRAINING)  Iter:  1  Epoch:  0 BLI Accuracy L1 to L2:  (0.1638, 0.214) BLI Accuracy L2 to L1:  (0.2082675092153765, 0.21590310689836756)\n",
            "epoch    0 train|loss 5.52638769|\n",
            "C1  Iter:  1  Epoch:  200 BLI Accuracy L1 to L2:  (0.2072, 0.2338) BLI Accuracy L2 to L1:  (0.22029138142882218, 0.22081797437247674)  english(en) <---> sinhala(si)\n",
            "Data Saved\n",
            "Total Runtime : 758.202388048172\n"
          ]
        }
      ]
    },
    {
      "cell_type": "code",
      "source": [
        "%cd /content/ContrastiveBLI/C2"
      ],
      "metadata": {
        "colab": {
          "base_uri": "https://localhost:8080/"
        },
        "id": "TU-hd0bP_k97",
        "outputId": "ae180668-742f-48dc-d284-3980d367828b"
      },
      "execution_count": null,
      "outputs": [
        {
          "output_type": "stream",
          "name": "stdout",
          "text": [
            "/content/ContrastiveBLI/C2\n"
          ]
        }
      ]
    },
    {
      "cell_type": "code",
      "source": [
        "!python run_all.py"
      ],
      "metadata": {
        "colab": {
          "base_uri": "https://localhost:8080/"
        },
        "id": "7lxytx0CAh17",
        "outputId": "a6c928d1-e18d-4c15-b660-e59c0d6b19dc"
      },
      "execution_count": null,
      "outputs": [
        {
          "output_type": "stream",
          "name": "stdout",
          "text": [
            "en si\n",
            "GEN NEG SAMPLES\n",
            "Generate Neg Samples\n",
            "Coverage of source vocab: 1.0000\n",
            "Coverage of source vocab: 1.0000\n",
            "lexicon_size_s2t, lexicon_size_t2s 5000.0 11394.0\n",
            "C1:  BLI Accuracy L1 to L2:  (0.2072, 0.2338) BLI Accuracy L2 to L1:  (0.22029138142882218, 0.22081797437247674)\n",
            "Traceback (most recent call last):\n",
            "  File \"/content/ContrastiveBLI/C2/gen_neg_samples.py\", line 357, in <module>\n",
            "    l2_dic.append(pair[1].lower())\n",
            "IndexError: list index out of range\n",
            "C2 Contrastive TRAINING\n",
            "Namespace(model_dir='bert-base-multilingual-uncased', train_dir='./BLI/en2si_train.txt', output_dir='/content/data/bert_models_final/mbert_en2si_5k', l1='en', l2='si', l1_voc='/content/data/5k/en2si_en_voc.npy', l1_emb='/content/data/5k/en2si_en_emb.pt', l2_voc='/content/data/5k/en2si_si_voc.npy', l2_emb='/content/data/5k/en2si_si_emb.pt', max_length=6, use_cuda=True, learning_rate=2e-05, weight_decay=0.01, train_batch_size=100, epoch=5, save_checkpoint_all=False, checkpoint_step=9999999, amp=True, parallel=True, random_seed=33, infoNCE_tau=0.1, agg_mode='cls', dropout_rate=0.1, random_erase=0.0, num_neg=28, template=0)\n",
            "tokenizer_config.json: 100% 48.0/48.0 [00:00<00:00, 203kB/s]\n",
            "config.json: 100% 625/625 [00:00<00:00, 3.06MB/s]\n",
            "vocab.txt: 100% 872k/872k [00:00<00:00, 60.7MB/s]\n",
            "tokenizer.json: 100% 1.72M/1.72M [00:00<00:00, 3.45MB/s]\n",
            "model.safetensors: 100% 672M/672M [00:02<00:00, 268MB/s]\n",
            "[MASK] token ID: 103\n",
            "03/14/2024 01:22:16 PM: [ C2_Metric_Learning: learning_rate=2e-05 weight_decay=0.01 use_cuda=True infoNCE_tau=0.1 agg_mode=cls ]\n",
            "03/14/2024 01:22:17 PM: [ using nn.DataParallel ]\n",
            "Traceback (most recent call last):\n",
            "  File \"/content/ContrastiveBLI/C2/train.py\", line 292, in <module>\n",
            "    main(args)\n",
            "  File \"/content/ContrastiveBLI/C2/train.py\", line 239, in main\n",
            "    train_set = C2_Dataset(\n",
            "  File \"/content/ContrastiveBLI/C2/./src/data_loader.py\", line 26, in __init__\n",
            "    with open(path, 'r') as f:\n",
            "FileNotFoundError: [Errno 2] No such file or directory: './BLI/en2si_train.txt'\n",
            "EVALUATION\n",
            "/content/ContrastiveBLI/C2/evaluate_bli_procrustes.py:12: DeprecationWarning: Please use `pearsonr` from the `scipy.stats` namespace, the `scipy.stats.stats` namespace is deprecated.\n",
            "  from scipy.stats.stats import pearsonr,spearmanr\n",
            "/content/ContrastiveBLI/C2/evaluate_bli_procrustes.py:12: DeprecationWarning: Please use `spearmanr` from the `scipy.stats` namespace, the `scipy.stats.stats` namespace is deprecated.\n",
            "  from scipy.stats.stats import pearsonr,spearmanr\n",
            "Evaluate BLI\n",
            "/content/data/bert_models_final/mbert_en2si_5k\n",
            "feature_size:  300\n",
            "Traceback (most recent call last):\n",
            "  File \"/content/ContrastiveBLI/C2/evaluate_bli_procrustes.py\", line 230, in <module>\n",
            "    with open(train_path,\"r\") as f:\n",
            "FileNotFoundError: [Errno 2] No such file or directory: './BLI//en2si_train.txt'\n"
          ]
        }
      ]
    }
  ]
}